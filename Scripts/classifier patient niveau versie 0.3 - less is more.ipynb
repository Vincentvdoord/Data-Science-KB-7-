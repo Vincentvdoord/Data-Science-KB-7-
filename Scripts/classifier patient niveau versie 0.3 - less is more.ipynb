{
 "cells": [
  {
   "cell_type": "code",
   "execution_count": 14,
   "metadata": {},
   "outputs": [],
   "source": [
    "import pandas as pd\n",
    "import numpy as np\n",
    "from os import listdir\n",
    "\n",
    "from sklearn.linear_model import LogisticRegression\n",
    "from sklearn.model_selection import train_test_split\n",
    "from sklearn import metrics\n",
    "import random\n",
    "import math"
   ]
  },
  {
   "cell_type": "code",
   "execution_count": 15,
   "metadata": {},
   "outputs": [],
   "source": [
    "def HeaderMaker(PatientFile):\n",
    "    df_cleaned = pd.read_csv('/data/ortho/' + PatientFile, header=None)\n",
    "\n",
    "    df_cleaned = df_cleaned.rename(columns={0: \"thorax_r_x\", 1: \"thorax_r_y\", 2: \"thorax_r_z\"})\n",
    "    df_cleaned = df_cleaned.rename(columns={3: \"clavicula_r_x\", 4: \"clavicula_r_y\", 5: \"clavicula_r_z\"})\n",
    "    df_cleaned = df_cleaned.rename(columns={6: \"scapula_r_x\", 7: \"scapula_r_y\", 8: \"scapula_r_z\"})\n",
    "    df_cleaned = df_cleaned.rename(columns={9: \"humerus_r_x\", 10: \"humerus_r_y\", 11: \"humerus_r_z\"})\n",
    "    df_cleaned = df_cleaned.rename(columns={12: \"ellebooghoek_r\"})\n",
    "    df_cleaned = df_cleaned.rename(columns={15: \"thorax_l_x\", 16: \"thorax_l_y\", 17: \"thorax_l_z\"})\n",
    "    df_cleaned = df_cleaned.rename(columns={18: \"clavicula_l_x\", 19: \"clavicula_l_y\", 20: \"clavicula_l_z\"})\n",
    "    df_cleaned = df_cleaned.rename(columns={21: \"scapula_l_x\", 22: \"scapula_l_y\", 23: \"scapula_l_z\"})\n",
    "    df_cleaned = df_cleaned.rename(columns={24: \"humerus_l_x\", 25: \"humerus_l_y\", 26: \"humerus_l_z\"})\n",
    "    df_cleaned = df_cleaned.rename(columns={27: \"ellebooghoek_l\"})\n",
    "    \n",
    "    return df_cleaned"
   ]
  },
  {
   "cell_type": "code",
   "execution_count": 16,
   "metadata": {
    "scrolled": true
   },
   "outputs": [
    {
     "name": "stdout",
     "output_type": "stream",
     "text": [
      "Skipping: Cleaned Train\n",
      "Skipping: StudentNummers\n",
      "Skipping: testset\n",
      "Skipping: AllPatients.csv\n",
      "Skipping: codevanjurriaan.zip\n",
      "Skipping: TestDataAllPatients.csv\n"
     ]
    }
   ],
   "source": [
    "\n",
    "Patients = {}\n",
    "testdataurl = '/data/ortho/'\n",
    "for PatientFile in listdir(testdataurl):\n",
    "    if ('meting' not in PatientFile):\n",
    "        print('Skipping: %s' % PatientFile)\n",
    "        # Skip this iteration\n",
    "        continue\n",
    "    Splitted = PatientFile.split('_')\n",
    "    Patient = Splitted[0] + '_' + Splitted[1]\n",
    "\n",
    "    Data = HeaderMaker(PatientFile)\n",
    "    MaxDict = Data.abs().max().to_dict() # .abs() for absolute numbers\n",
    "    \n",
    "    if(Patient not in Patients.keys()):\n",
    "        Patients[Patient] = MaxDict\n",
    "        Patients[Patient]['GroundTruth'] = Splitted[0].split('Cat')[1]\n",
    "        Patients[Patient]['Bias'] = 0\n",
    "        continue\n",
    "    \n",
    "    for key in MaxDict.keys():\n",
    "        Patients[Patient][key]= max(Patients[Patient][key],MaxDict[key])\n",
    "        \n",
    "\n",
    "    \n",
    "    \n",
    "            \n",
    "            \n",
    "            \n",
    "            "
   ]
  },
  {
   "cell_type": "code",
   "execution_count": 17,
   "metadata": {
    "scrolled": true
   },
   "outputs": [],
   "source": [
    "df = pd.DataFrame.from_dict(Patients, orient='index')\n",
    "# print(df.columns.values)\n",
    "# df = df[['Cat2' in index or 'Cat3' in index for index in df.index]] # Welke colommen wil je houden\n",
    "\n",
    "# df['TrueFalse'] = ['2' == i for i in df['GroundTruth']]\n",
    "\n",
    "# print(df.head())"
   ]
  },
  {
   "cell_type": "code",
   "execution_count": 18,
   "metadata": {},
   "outputs": [],
   "source": [
    "Xcolumns = ['Bias']\n",
    "Xcolumns.extend(['thorax_r_x', 'thorax_r_y', 'thorax_r_z', 'clavicula_r_x', 'clavicula_r_y',\n",
    " 'clavicula_r_z', 'scapula_r_x', 'scapula_r_y', 'scapula_r_z', 'humerus_r_x',\n",
    " 'humerus_r_y', 'humerus_r_z', 'ellebooghoek_r', 'thorax_l_x',\n",
    " 'thorax_l_y', 'thorax_l_z', 'clavicula_l_x', 'clavicula_l_y', 'clavicula_l_z',\n",
    " 'scapula_l_x', 'scapula_l_y', 'scapula_l_z', 'humerus_l_x', 'humerus_l_y',\n",
    " 'humerus_l_z', 'ellebooghoek_l'])\n",
    "\n",
    "# X = df[Xcolumns]\n",
    "# y = df[['GroundTruth']]\n",
    "\n",
    "\n"
   ]
  },
  {
   "cell_type": "code",
   "execution_count": 19,
   "metadata": {},
   "outputs": [
    {
     "name": "stdout",
     "output_type": "stream",
     "text": [
      "['1' '2' '3' '4']\n"
     ]
    }
   ],
   "source": [
    "print(df['GroundTruth'].unique())"
   ]
  },
  {
   "cell_type": "code",
   "execution_count": 20,
   "metadata": {},
   "outputs": [
    {
     "name": "stdout",
     "output_type": "stream",
     "text": [
      "Final Percentage test: 0.1797752808988764\n"
     ]
    }
   ],
   "source": [
    "def Patient_test_split(dataframe, xcol, ycol, Percentage):\n",
    "    allIndex = np.unique(df.index.tolist()) # Get all unique patients id's\n",
    "    random.seed(2) # Set random seeed so the answer is the same\n",
    "    \n",
    "    PercentageIndex = []\n",
    "    for i in df['GroundTruth'].unique(): # Cycle through each categorie (only cycles through the ones that are present)\n",
    "        CatPatients = np.array([i.split('_')[0].split('Cat')[1] for i in allIndex])\n",
    "        CatPatients = CatPatients[CatPatients==i]\n",
    "        \n",
    "        AmountItems = len(CatPatients)\n",
    "        AmountRandom = math.floor(AmountItems*Percentage)\n",
    "        PercentageIndex.extend(random.sample(list(CatPatients), AmountRandom))        \n",
    "        \n",
    "    AmountItems = len(allIndex)\n",
    "    AmountRandom = math.floor(AmountItems*Percentage)\n",
    "    \n",
    "    PercentageIndex = random.sample(list(allIndex), AmountRandom)\n",
    "    \n",
    "    Percentagedf = df[xcol][df.index.isin(PercentageIndex)]\n",
    "    Percentagey = df[ycol][df.index.isin(PercentageIndex)]\n",
    "    \n",
    "    Testdf = df[xcol][~df.index.isin(PercentageIndex)]\n",
    "    Testy = df[ycol][~df.index.isin(PercentageIndex)]\n",
    "    print('Final Percentage test: %s' % (len(Testdf)/len(Percentagedf)))\n",
    "    return (Percentagedf, Testdf, Percentagey, Testy)\n",
    "\n",
    "X_train, X_test, y_train, y_test = Patient_test_split(df, Xcolumns, 'GroundTruth', 0.85)"
   ]
  },
  {
   "cell_type": "code",
   "execution_count": 21,
   "metadata": {},
   "outputs": [
    {
     "name": "stdout",
     "output_type": "stream",
     "text": [
      "89 16\n"
     ]
    }
   ],
   "source": [
    "print(len(X_train), len(X_test))"
   ]
  },
  {
   "cell_type": "code",
   "execution_count": 22,
   "metadata": {},
   "outputs": [],
   "source": [
    "# X_train, X_test, y_train, y_test = train_test_split(X, y, test_size = 0.2, random_state=42)"
   ]
  },
  {
   "cell_type": "code",
   "execution_count": 23,
   "metadata": {},
   "outputs": [
    {
     "name": "stderr",
     "output_type": "stream",
     "text": [
      "/opt/jupyterhub/anaconda/lib/python3.6/site-packages/sklearn/linear_model/logistic.py:432: FutureWarning: Default solver will be changed to 'lbfgs' in 0.22. Specify a solver to silence this warning.\n",
      "  FutureWarning)\n",
      "/opt/jupyterhub/anaconda/lib/python3.6/site-packages/sklearn/linear_model/logistic.py:459: FutureWarning: Default multi_class will be changed to 'auto' in 0.22. Specify the multi_class option to silence this warning.\n",
      "  \"this warning.\", FutureWarning)\n"
     ]
    },
    {
     "data": {
      "text/plain": [
       "LogisticRegression(C=1.0, class_weight=None, dual=False, fit_intercept=True,\n",
       "          intercept_scaling=1, max_iter=100, multi_class='warn',\n",
       "          n_jobs=None, penalty='l2', random_state=None, solver='warn',\n",
       "          tol=0.0001, verbose=0, warm_start=False)"
      ]
     },
     "execution_count": 23,
     "metadata": {},
     "output_type": "execute_result"
    }
   ],
   "source": [
    "lr = LogisticRegression()\n",
    "lr.fit(X_train, y_train)"
   ]
  },
  {
   "cell_type": "code",
   "execution_count": 24,
   "metadata": {},
   "outputs": [
    {
     "name": "stdout",
     "output_type": "stream",
     "text": [
      "[ 0.00000000e+00 -8.00027109e-02 -2.49804728e-01 -3.72342310e-01\n",
      " -5.80912486e-02  7.14597311e-01 -2.61063912e-01  3.65779458e-01\n",
      " -1.67719673e-01  2.63473089e-01 -2.27179261e-01  4.07329064e-01\n",
      "  1.17405409e-01  2.43475303e-05 -8.00027109e-02 -2.49804728e-01\n",
      " -3.72342310e-01  1.76049977e-01 -4.08428059e-01  1.84428644e-01\n",
      " -6.01074676e-01 -3.00158478e-01 -7.32277107e-01 -2.78170215e-01\n",
      " -1.61394384e-01  2.85625411e-01  2.02481113e-04]\n",
      "0.625\n",
      "Cat1_pat12    1\n",
      "Cat1_pat3     1\n",
      "Cat1_pat7     1\n",
      "Cat2_pat1     2\n",
      "Cat2_pat10    2\n",
      "Cat2_pat12    2\n",
      "Cat2_pat20    2\n",
      "Cat2_pat26    2\n",
      "Cat2_pat31    2\n",
      "Cat2_pat34    2\n",
      "Cat2_pat6     2\n",
      "Cat3_pat15    3\n",
      "Cat3_pat20    3\n",
      "Cat3_pat25    3\n",
      "Cat3_pat26    3\n",
      "Cat3_pat37    3\n",
      "Name: GroundTruth, dtype: object\n"
     ]
    }
   ],
   "source": [
    "y_pred = lr.predict(X_test)\n",
    "print(lr.coef_[0])\n",
    "print(metrics.accuracy_score(y_test, y_pred))\n",
    "print(y_test)"
   ]
  },
  {
   "cell_type": "code",
   "execution_count": 25,
   "metadata": {
    "scrolled": true
   },
   "outputs": [
    {
     "name": "stdout",
     "output_type": "stream",
     "text": [
      "              precision    recall  f1-score   support\n",
      "\n",
      "           1      0.500     0.667     0.571         3\n",
      "           2      1.000     0.500     0.667         8\n",
      "           3      0.571     0.800     0.667         5\n",
      "           4      0.000     0.000     0.000         0\n",
      "\n",
      "   micro avg      0.625     0.625     0.625        16\n",
      "   macro avg      0.518     0.492     0.476        16\n",
      "weighted avg      0.772     0.625     0.649        16\n",
      "\n"
     ]
    },
    {
     "name": "stderr",
     "output_type": "stream",
     "text": [
      "/opt/jupyterhub/anaconda/lib/python3.6/site-packages/sklearn/metrics/classification.py:1145: UndefinedMetricWarning: Recall and F-score are ill-defined and being set to 0.0 in labels with no true samples.\n",
      "  'recall', 'true', average, warn_for)\n"
     ]
    }
   ],
   "source": [
    "from sklearn.metrics import mean_squared_error, \\\n",
    "recall_score, precision_score, accuracy_score, confusion_matrix\n",
    "\n",
    "y_true = y_test\n",
    "y_pred =lr.predict(X_test)\n",
    "\n",
    "print(metrics.classification_report(y_true, y_pred, digits=3))"
   ]
  },
  {
   "cell_type": "code",
   "execution_count": 26,
   "metadata": {},
   "outputs": [
    {
     "name": "stdout",
     "output_type": "stream",
     "text": [
      "            thorax_r_x  thorax_r_y  thorax_r_z  clavicula_r_x  clavicula_r_y  \\\n",
      "Cat1_pat1    13.663678    9.903709   11.123922      64.694994      59.705033   \n",
      "Cat1_pat10   12.806170    7.593816    9.302323      54.298075      44.600980   \n",
      "Cat1_pat11    4.897893    6.773511    3.735479      56.065497      33.784876   \n",
      "Cat1_pat12   49.245791    7.314965    8.305846      61.410984      20.651558   \n",
      "Cat1_pat13   30.173814    8.499073    7.535154      48.753768      37.444309   \n",
      "Cat1_pat14   11.258897    7.298017    7.133124      62.063262      34.299972   \n",
      "Cat1_pat15   10.358437   10.047675    5.074372      59.905904      43.643171   \n",
      "Cat1_pat16   44.385380    8.091777   11.688101      50.551228      33.370916   \n",
      "Cat1_pat17    8.925056    6.575340    6.089936      70.999833      32.036554   \n",
      "Cat1_pat18   24.864544   15.877012   10.475858      67.200225      49.649160   \n",
      "Cat1_pat19   14.816584    7.588055    7.960695      56.279465      37.832953   \n",
      "Cat1_pat2    20.354050   10.399477    6.685508      60.530796      25.970675   \n",
      "Cat1_pat20   19.895357   12.204125    9.412783      66.637608      51.207037   \n",
      "Cat1_pat21   16.545980   10.624568    8.426267      52.326177      36.372825   \n",
      "Cat1_pat22   13.157385    9.669069    9.635190      45.478439      40.077085   \n",
      "Cat1_pat23   38.937541   19.592274    8.044029      51.420259      23.620456   \n",
      "Cat1_pat24   10.779128    9.749870    9.359026      54.574463      39.077829   \n",
      "Cat1_pat26   21.733778   17.275017    4.168559      62.089057      48.403488   \n",
      "Cat1_pat27   17.458515    9.775380   16.518007      60.732504      50.956731   \n",
      "Cat1_pat29   13.821959   10.021770    5.626569      68.472362      58.704605   \n",
      "Cat1_pat3    22.764581    5.091902   12.802915      58.197721      40.233990   \n",
      "Cat1_pat30    5.579521   14.034950    5.691850      53.750139      46.877613   \n",
      "Cat1_pat4    15.591305    9.503920   11.499793      54.465082      39.827560   \n",
      "Cat1_pat5    12.749165    8.635840   11.226919      65.007037      29.274993   \n",
      "Cat1_pat6    18.245300   12.972702    6.353253      57.888439      26.430129   \n",
      "Cat1_pat7    20.790991    6.767513   11.726763      73.808436      18.719435   \n",
      "Cat1_pat8    13.011452    6.196789    6.341241      54.391241      38.921715   \n",
      "Cat2_pat1    30.205059    8.327290   14.003376      63.572119      40.146607   \n",
      "Cat2_pat10   20.894410    7.823451   22.196069      37.854013      30.629881   \n",
      "Cat2_pat11   17.321307    8.606262    7.111266      55.135392      34.814425   \n",
      "...                ...         ...         ...            ...            ...   \n",
      "Cat3_pat24   15.206530   11.559314    6.822241      75.934112      39.042100   \n",
      "Cat3_pat25   16.061690   15.563510   11.046372      70.482772      57.147367   \n",
      "Cat3_pat26   44.869531   19.464067   12.251875      61.050126      42.421501   \n",
      "Cat3_pat27   22.960680    3.776964    7.043700      43.953462      30.699696   \n",
      "Cat3_pat28   13.681733   22.237365   17.400233      55.362656      28.033140   \n",
      "Cat3_pat29   10.677808   26.135457   32.215376      56.599920      60.367719   \n",
      "Cat3_pat3    35.483442   13.343484   14.354209      51.043045      40.555552   \n",
      "Cat3_pat30   25.872226   14.915721   31.015184      73.737979      68.014726   \n",
      "Cat3_pat31   56.692572   13.818446   13.437309      62.622874      36.350648   \n",
      "Cat3_pat32   21.579198    9.517603    9.341644      58.249952      33.720454   \n",
      "Cat3_pat33   25.806385   22.578448   11.346840      56.641185      35.323275   \n",
      "Cat3_pat34   21.288704   14.801398   11.686722      55.220713      44.188880   \n",
      "Cat3_pat35   14.410922   12.333062   13.664144      52.829319      39.990785   \n",
      "Cat3_pat37   37.528624    9.323758    8.665945      50.758065      42.424193   \n",
      "Cat3_pat38   17.247099   12.604353   19.281554      66.067454      29.294204   \n",
      "Cat3_pat39   30.193673   20.067701   13.099139      63.540310      35.752639   \n",
      "Cat3_pat5   175.733905   84.122646  179.273795     126.694958      74.022033   \n",
      "Cat3_pat6    35.793759   19.877998   11.556471      57.570370      46.638507   \n",
      "Cat3_pat7    18.764579   22.252607   10.063102      60.261802      47.468692   \n",
      "Cat3_pat8    26.898392   10.517960   11.703237      51.635012      28.369935   \n",
      "Cat3_pat9    12.935743   18.955517   14.897458      65.101645      33.494148   \n",
      "Cat4_pat11   41.145955   10.607599   10.374479      58.516601      53.485446   \n",
      "Cat4_pat12   40.355360   25.696330   19.776566      44.158417      47.419980   \n",
      "Cat4_pat14   25.178258   17.134675   15.908548      54.279556      34.111458   \n",
      "Cat4_pat15   18.460423    8.569263    7.384975      56.996644      35.066815   \n",
      "Cat4_pat17   21.810804    8.273798   10.327335      71.905332      41.920457   \n",
      "Cat4_pat20   19.837249   13.966694   21.076587      48.351481      24.585951   \n",
      "Cat4_pat23   21.329896   12.169743    9.953231      49.433429      46.310400   \n",
      "Cat4_pat24   26.353549    8.306838    7.515257      58.721793      42.088547   \n",
      "Cat4_pat6    29.206951   24.920197   18.968447      74.818216      27.704731   \n",
      "\n",
      "            clavicula_r_z  scapula_r_x  scapula_r_y  scapula_r_z  humerus_r_x  \\\n",
      "Cat1_pat1       75.698618    55.239339    55.313109    49.705739    94.575167   \n",
      "Cat1_pat10      62.402269    47.548266    33.717771    52.540933    99.133941   \n",
      "Cat1_pat11      62.065025    51.980370    41.567331    41.415919    81.197164   \n",
      "Cat1_pat12      57.885456    38.753370    28.881256    23.675090    75.838292   \n",
      "Cat1_pat13      66.893099    51.933625    40.908009    17.494325   104.601029   \n",
      "Cat1_pat14      68.950229    55.790834    43.426479    22.930154    72.894421   \n",
      "Cat1_pat15      50.606017    36.060276    33.537376    20.556072    93.319368   \n",
      "Cat1_pat16      76.637989    46.108249    32.585480    25.002815   174.987936   \n",
      "Cat1_pat17      62.180229    60.177782    25.617908    26.837849    77.044781   \n",
      "Cat1_pat18      99.020908    75.081416    75.347421    43.174165    97.698941   \n",
      "Cat1_pat19      68.343801    59.175203    37.530453    30.168536    82.932202   \n",
      "Cat1_pat2       56.927170    40.823197    30.537493    28.030214   101.317641   \n",
      "Cat1_pat20      57.553529    67.295102    27.507347    32.630971    96.438361   \n",
      "Cat1_pat21      60.257910    44.380596    33.241855    21.830662    85.064730   \n",
      "Cat1_pat22      39.000417    39.628113    33.941299    43.247438    72.409161   \n",
      "Cat1_pat23      60.192671    79.123767    42.951725    28.678161   112.692834   \n",
      "Cat1_pat24      53.718391    69.567739    34.703786    44.076855    93.017161   \n",
      "Cat1_pat26      75.098799    77.660620    46.717486    35.799571   105.030891   \n",
      "Cat1_pat27      66.870074    49.367868    24.888328    37.151398    71.464500   \n",
      "Cat1_pat29      58.692736    58.274406    35.338064    27.857197    72.862617   \n",
      "Cat1_pat3       57.839060    55.832776    39.590349    61.093145    78.367885   \n",
      "Cat1_pat30      59.075141    71.965933    31.092927    21.252840    85.142655   \n",
      "Cat1_pat4       69.617329    67.743638    41.420616    24.340084    88.354087   \n",
      "Cat1_pat5       54.144605    52.397745    35.919935    39.707599    87.689040   \n",
      "Cat1_pat6       43.497328    50.269028    29.487872    31.216541    75.840266   \n",
      "Cat1_pat7       72.801740    46.162250    51.025799    30.679993    77.494460   \n",
      "Cat1_pat8       54.175167    48.139797    23.003448    35.017939    75.669669   \n",
      "Cat2_pat1       55.345671    47.978776    34.459172    33.434060   107.360602   \n",
      "Cat2_pat10      62.582716    59.944770    35.856673    78.777136    90.048934   \n",
      "Cat2_pat11      64.710345    49.343605    36.396814    29.700788    93.272901   \n",
      "...                   ...          ...          ...          ...          ...   \n",
      "Cat3_pat24      74.452569    45.263716    39.121930    27.158082   105.222029   \n",
      "Cat3_pat25      64.924788    50.467088    40.079184    38.702126    89.675038   \n",
      "Cat3_pat26      63.458253    84.267389    43.986931    31.028805    81.953606   \n",
      "Cat3_pat27      39.697835    49.938955    19.811609    45.393830    71.952646   \n",
      "Cat3_pat28      43.071721    38.553847    29.508827    29.814554   103.776874   \n",
      "Cat3_pat29      66.273619    92.036925    54.391751    45.556388   114.838602   \n",
      "Cat3_pat3       55.085932    61.786513    54.232294    44.738597    91.661399   \n",
      "Cat3_pat30      80.609604    79.430288    63.242949    61.520189    85.496980   \n",
      "Cat3_pat31      76.032672    47.595438    47.190865    23.245941    94.284334   \n",
      "Cat3_pat32      42.887862    54.868330    29.252666    26.762261   121.375638   \n",
      "Cat3_pat33      48.156998    51.064012    39.144671    32.592339    85.582135   \n",
      "Cat3_pat34      56.436335    44.876048    29.813138    24.663630    95.515171   \n",
      "Cat3_pat35      50.064028    57.300325    44.555146    40.099918    84.200644   \n",
      "Cat3_pat37      68.007387    63.890651    45.477206    43.920396   108.557763   \n",
      "Cat3_pat38      42.675726    48.602083    24.521168    40.864508    74.351948   \n",
      "Cat3_pat39      82.344410    51.404355    54.532637    38.736944   141.947865   \n",
      "Cat3_pat5       94.128287   113.212655    40.558008    88.037076   127.750670   \n",
      "Cat3_pat6       62.640408    63.168049    40.761179    26.064572   113.103508   \n",
      "Cat3_pat7       67.671747    49.665978    42.287939    31.041942   108.948355   \n",
      "Cat3_pat8       44.390981    42.654415    35.627375    33.302119    86.239762   \n",
      "Cat3_pat9       55.743896    44.376878    37.401575    29.093132   107.651366   \n",
      "Cat4_pat11      82.564219    46.909018    60.265874    45.423607   110.107922   \n",
      "Cat4_pat12      58.771120    71.210729    66.678789    23.779848   179.118659   \n",
      "Cat4_pat14      56.499330    45.712438    49.156705    30.525686   179.911293   \n",
      "Cat4_pat15      61.365623    48.168902    67.453950    36.561193   138.334769   \n",
      "Cat4_pat17      63.945860    57.268503    69.481317    22.062262    89.444165   \n",
      "Cat4_pat20      37.487098    45.071195    41.081094    21.343534    93.619665   \n",
      "Cat4_pat23      54.680875    40.813456    59.829241    16.531363    88.613449   \n",
      "Cat4_pat24      68.814608    64.756077    77.705016    57.559006    79.781756   \n",
      "Cat4_pat6       68.433809    39.054718    64.708729    34.010692   109.377407   \n",
      "\n",
      "            ...   scapula_l_y  scapula_l_z  humerus_l_x  humerus_l_y  \\\n",
      "Cat1_pat1   ...     41.239355    47.553881    79.664010   144.845102   \n",
      "Cat1_pat10  ...     52.485279    33.255615    77.461331   165.286832   \n",
      "Cat1_pat11  ...     30.978742    30.774691    86.965265   160.448197   \n",
      "Cat1_pat12  ...     19.349037    32.633641    82.469873   159.386134   \n",
      "Cat1_pat13  ...     25.989754    25.626107    76.489568   164.056072   \n",
      "Cat1_pat14  ...     30.681731    28.769181   161.620079   167.656600   \n",
      "Cat1_pat15  ...     29.701508    24.169423    78.530213   159.760251   \n",
      "Cat1_pat16  ...     27.460800    19.488100    85.007944   160.063779   \n",
      "Cat1_pat17  ...     28.959327    26.107300    70.624089   150.902269   \n",
      "Cat1_pat18  ...     57.128810    34.339181    78.153498   167.827076   \n",
      "Cat1_pat19  ...     29.585058    27.002641    75.512599   149.189213   \n",
      "Cat1_pat2   ...     44.110470    26.235715    82.627907   172.141618   \n",
      "Cat1_pat20  ...     25.641992    28.520387    95.944209   152.461416   \n",
      "Cat1_pat21  ...     30.308632    21.165733    83.717837   156.433469   \n",
      "Cat1_pat22  ...     22.397184    37.376565    75.423815   147.704567   \n",
      "Cat1_pat23  ...     26.146434    19.479709    77.850938   159.111070   \n",
      "Cat1_pat24  ...     30.532316    41.900615   103.148411   152.839410   \n",
      "Cat1_pat26  ...     29.021197    33.296008    83.629671   164.609889   \n",
      "Cat1_pat27  ...     25.961725    36.607616   107.462089   138.056105   \n",
      "Cat1_pat29  ...     49.008060    32.681785    76.801685   157.826249   \n",
      "Cat1_pat3   ...     32.908323    58.092203    81.621606   148.170654   \n",
      "Cat1_pat30  ...     18.406688    17.883832    85.560033   157.804031   \n",
      "Cat1_pat4   ...     16.673147    22.468448    78.563719   140.249145   \n",
      "Cat1_pat5   ...     20.256737    32.777721    88.146432   153.523908   \n",
      "Cat1_pat6   ...     23.986666    40.933266    77.760599   143.102895   \n",
      "Cat1_pat7   ...     34.273935    20.666373    68.509143   162.401901   \n",
      "Cat1_pat8   ...     20.976197    36.769674    84.045222   152.695144   \n",
      "Cat2_pat1   ...     45.549613    29.479255    84.844552   155.470517   \n",
      "Cat2_pat10  ...     45.619373    79.043053    82.512778   132.764804   \n",
      "Cat2_pat11  ...     28.707955    42.214125    78.956422   139.067524   \n",
      "...         ...           ...          ...          ...          ...   \n",
      "Cat3_pat24  ...     38.052555    24.503125    85.076076   157.801362   \n",
      "Cat3_pat25  ...     27.292805    30.957221    97.738364   160.683700   \n",
      "Cat3_pat26  ...     70.734049    57.911757    75.048987   147.715059   \n",
      "Cat3_pat27  ...     46.553440    40.262415    85.639159   147.389790   \n",
      "Cat3_pat28  ...     26.724911    24.364538    93.291369   128.310088   \n",
      "Cat3_pat29  ...     36.988264    20.388964    99.605089   127.923646   \n",
      "Cat3_pat3   ...     53.403548    50.597548   125.310647   159.948219   \n",
      "Cat3_pat30  ...     63.482995    30.991784   138.447829   172.840686   \n",
      "Cat3_pat31  ...     45.362665    24.396791   103.103234   154.123960   \n",
      "Cat3_pat32  ...     36.351188    25.206865    92.699499   161.870184   \n",
      "Cat3_pat33  ...     53.686088    33.546246    84.093678   165.999943   \n",
      "Cat3_pat34  ...     30.470416    17.117666    76.935096   112.642248   \n",
      "Cat3_pat35  ...     40.671294    37.272316   109.107477   134.971847   \n",
      "Cat3_pat37  ...     41.443476    29.722520    80.896105   133.899925   \n",
      "Cat3_pat38  ...     31.770359    25.262700    84.536412   145.731710   \n",
      "Cat3_pat39  ...     37.039838    33.502651   122.240083   159.188266   \n",
      "Cat3_pat5   ...     67.180734    89.947599   179.959607   128.534795   \n",
      "Cat3_pat6   ...     38.686689    19.125827    97.255178   152.983424   \n",
      "Cat3_pat7   ...     35.619432    36.551032    84.433787   170.656558   \n",
      "Cat3_pat8   ...     31.803643    27.792129   173.642990   147.763775   \n",
      "Cat3_pat9   ...     52.117256    28.031319   123.913120   156.610815   \n",
      "Cat4_pat11  ...     59.842579    47.005072    84.787427   155.707392   \n",
      "Cat4_pat12  ...     46.224606    21.917152   127.260793   138.928173   \n",
      "Cat4_pat14  ...     62.381144    20.682850    77.321587   150.537205   \n",
      "Cat4_pat15  ...     75.101484    32.048882    77.403313   167.024669   \n",
      "Cat4_pat17  ...     69.649024    44.658336    88.097539   156.904608   \n",
      "Cat4_pat20  ...     63.078283    25.998121    84.388087   145.798774   \n",
      "Cat4_pat23  ...     77.139866    39.990152    87.055237   123.775693   \n",
      "Cat4_pat24  ...     55.686062    34.035644    83.771136   137.854750   \n",
      "Cat4_pat6   ...     36.490579    43.884057   172.923354    34.276524   \n",
      "\n",
      "            humerus_l_z  ellebooghoek_l   28   29  GroundTruth  Bias  \n",
      "Cat1_pat1    129.632445     4874.735221  0.0  0.0            1     0  \n",
      "Cat1_pat10   130.745498      930.655282  0.0  0.0            1     0  \n",
      "Cat1_pat11   109.397526     1056.235019  0.0  0.0            1     0  \n",
      "Cat1_pat12   110.954473     1274.613329  0.0  0.0            1     0  \n",
      "Cat1_pat13    85.026097     2189.110082  0.0  0.0            1     0  \n",
      "Cat1_pat14   156.508456     1812.319045  0.0  0.0            1     0  \n",
      "Cat1_pat15   115.810047     1001.072511  0.0  0.0            1     0  \n",
      "Cat1_pat16   143.789533     2088.140327  0.0  0.0            1     0  \n",
      "Cat1_pat17   112.214136     3203.393578  0.0  0.0            1     0  \n",
      "Cat1_pat18   100.463573     5243.124912  0.0  0.0            1     0  \n",
      "Cat1_pat19   126.388086     7385.248742  0.0  0.0            1     0  \n",
      "Cat1_pat2    107.888710     2193.379361  0.0  0.0            1     0  \n",
      "Cat1_pat20   113.458418     1279.090494  0.0  0.0            1     0  \n",
      "Cat1_pat21    83.633493     1636.027144  0.0  0.0            1     0  \n",
      "Cat1_pat22    95.775789     1830.875592  0.0  0.0            1     0  \n",
      "Cat1_pat23    96.748265     1323.160111  0.0  0.0            1     0  \n",
      "Cat1_pat24   136.325609     2348.457847  0.0  0.0            1     0  \n",
      "Cat1_pat26   118.353351    11590.489847  0.0  0.0            1     0  \n",
      "Cat1_pat27   129.468022     6968.012992  0.0  0.0            1     0  \n",
      "Cat1_pat29    94.842526     5892.718315  0.0  0.0            1     0  \n",
      "Cat1_pat3    136.352982      794.300277  0.0  0.0            1     0  \n",
      "Cat1_pat30    64.955352     1938.652716  0.0  0.0            1     0  \n",
      "Cat1_pat4     90.326920      795.177545  0.0  0.0            1     0  \n",
      "Cat1_pat5    110.499658     2975.590755  0.0  0.0            1     0  \n",
      "Cat1_pat6    103.154969     5037.148723  0.0  0.0            1     0  \n",
      "Cat1_pat7    103.337939     3607.757918  0.0  0.0            1     0  \n",
      "Cat1_pat8    108.280397     3224.407167  0.0  0.0            1     0  \n",
      "Cat2_pat1    102.978875     1872.273704  0.0  0.0            2     0  \n",
      "Cat2_pat10   105.367644     5553.858844  0.0  0.0            2     0  \n",
      "Cat2_pat11   145.820126     2437.919326  0.0  0.0            2     0  \n",
      "...                 ...             ...  ...  ...          ...   ...  \n",
      "Cat3_pat24    95.762572     9288.312623  0.0  0.0            3     0  \n",
      "Cat3_pat25   131.249121      716.295654  0.0  0.0            3     0  \n",
      "Cat3_pat26   108.551207     2186.894811  0.0  0.0            3     0  \n",
      "Cat3_pat27   107.104662      892.249922  0.0  0.0            3     0  \n",
      "Cat3_pat28   107.919944      643.754017  0.0  0.0            3     0  \n",
      "Cat3_pat29   104.421147     2507.248497  0.0  0.0            3     0  \n",
      "Cat3_pat3    135.965883     1721.691426  0.0  0.0            3     0  \n",
      "Cat3_pat30    78.432939     3605.582619  0.0  0.0            3     0  \n",
      "Cat3_pat31   104.625906     5777.798677  0.0  0.0            3     0  \n",
      "Cat3_pat32    99.715210     1878.595970  0.0  0.0            3     0  \n",
      "Cat3_pat33   101.137024     2497.490973  0.0  0.0            3     0  \n",
      "Cat3_pat34    84.505018      919.145558  0.0  0.0            3     0  \n",
      "Cat3_pat35   131.861718     6470.839481  0.0  0.0            3     0  \n",
      "Cat3_pat37    92.145408     3784.935536  0.0  0.0            3     0  \n",
      "Cat3_pat38   108.676286      804.912463  0.0  0.0            3     0  \n",
      "Cat3_pat39   166.196676     3028.925066  0.0  0.0            3     0  \n",
      "Cat3_pat5    176.089806     4951.801962  0.0  0.0            3     0  \n",
      "Cat3_pat6    120.861668     3233.399740  0.0  0.0            3     0  \n",
      "Cat3_pat7    101.407162     4066.357917  0.0  0.0            3     0  \n",
      "Cat3_pat8    179.794097     1962.233257  0.0  0.0            3     0  \n",
      "Cat3_pat9    125.559240     3890.310557  0.0  0.0            3     0  \n",
      "Cat4_pat11   120.182161     3346.810999  0.0  0.0            4     0  \n",
      "Cat4_pat12   179.869528     5772.399732  0.0  0.0            4     0  \n",
      "Cat4_pat14    96.718770     1930.930510  0.0  0.0            4     0  \n",
      "Cat4_pat15    91.657257     1084.962205  0.0  0.0            4     0  \n",
      "Cat4_pat17   105.349549     2123.955673  0.0  0.0            4     0  \n",
      "Cat4_pat20    89.704678     1015.551844  0.0  0.0            4     0  \n",
      "Cat4_pat23   101.426586     1999.308480  0.0  0.0            4     0  \n",
      "Cat4_pat24   108.037993     4665.236960  0.0  0.0            4     0  \n",
      "Cat4_pat6    179.498678     1290.772420  0.0  0.0            4     0  \n",
      "\n",
      "[105 rows x 32 columns]\n"
     ]
    }
   ],
   "source": [
    "print(df)"
   ]
  }
 ],
 "metadata": {
  "kernelspec": {
   "display_name": "Python 3",
   "language": "python",
   "name": "python3"
  },
  "language_info": {
   "codemirror_mode": {
    "name": "ipython",
    "version": 3
   },
   "file_extension": ".py",
   "mimetype": "text/x-python",
   "name": "python",
   "nbconvert_exporter": "python",
   "pygments_lexer": "ipython3",
   "version": "3.6.8"
  }
 },
 "nbformat": 4,
 "nbformat_minor": 2
}
