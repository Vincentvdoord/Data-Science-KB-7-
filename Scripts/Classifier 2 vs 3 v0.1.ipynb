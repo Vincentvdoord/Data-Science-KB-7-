{
 "cells": [
  {
   "cell_type": "code",
   "execution_count": 242,
   "metadata": {},
   "outputs": [],
   "source": [
    "import numpy as np\n",
    "import pandas as pd\n",
    "import matplotlib.pyplot as plt\n",
    "from mpl_toolkits.mplot3d import Axes3D\n",
    "import time\n",
    "%matplotlib notebook\n",
    "import seaborn as sns\n",
    "from scipy.special import expit as logit\n",
    "from sklearn.model_selection import train_test_split\n",
    "from scipy.special import expit as sigmoid # is more stable in case of overflows\n",
    "from sklearn.linear_model import LogisticRegression\n",
    "from sklearn.neighbors import KNeighborsClassifier\n",
    "from sklearn import metrics\n",
    "from sklearn.linear_model import LinearRegression\n",
    "from sklearn.metrics import mean_squared_error, \\\n",
    "recall_score, precision_score, accuracy_score, confusion_matrix\n",
    "import math\n"
   ]
  },
  {
   "cell_type": "markdown",
   "metadata": {},
   "source": [
    "# Prepare data"
   ]
  },
  {
   "cell_type": "code",
   "execution_count": 243,
   "metadata": {
    "scrolled": true
   },
   "outputs": [],
   "source": [
    "df_cleaned = pd.read_csv('/data/ortho/AllPatients.csv',  sep= ';')\n"
   ]
  },
  {
   "cell_type": "code",
   "execution_count": 244,
   "metadata": {
    "scrolled": true
   },
   "outputs": [],
   "source": [
    "# bereken symmetrie\n",
    "df_cleaned['clavicula_x_dif'] = np.absolute(df_cleaned['clavicula_l_x'] - df_cleaned['clavicula_r_x'])\n",
    "df_cleaned['clavicula_y_dif'] = np.absolute(df_cleaned['clavicula_l_y'] - df_cleaned['clavicula_r_y'])\n",
    "df_cleaned['clavicula_z_dif'] = np.absolute(df_cleaned['clavicula_l_z'] - df_cleaned['clavicula_r_z'])\n",
    "\n",
    "df_cleaned['scapula_x_dif'] = np.absolute(df_cleaned['scapula_l_x'] - df_cleaned['scapula_r_x'])\n",
    "df_cleaned['scapula_y_dif'] = np.absolute(df_cleaned['scapula_l_y'] - df_cleaned['scapula_r_y'])\n",
    "df_cleaned['scapula_z_dif'] = np.absolute(df_cleaned['scapula_l_z'] - df_cleaned['scapula_r_z'])\n",
    "\n",
    "df_cleaned['humerus_x_dif'] = np.absolute(df_cleaned['humerus_l_x'] - df_cleaned['humerus_r_x'])\n",
    "df_cleaned['humerus_y_dif'] = np.absolute(df_cleaned['humerus_l_y'] - df_cleaned['humerus_r_y'])\n",
    "df_cleaned['humerus_z_dif'] = np.absolute(df_cleaned['humerus_l_z'] - df_cleaned['humerus_r_z'])\n",
    "\n",
    "# hulp array, met alle parameters die voor de classifier gebruikt worden, je kan hier alles in doen wat je wilt\n",
    "param = [ \\\n",
    "          'humerus_l_x', 'humerus_l_y', 'humerus_l_z', 'humerus_r_x', 'humerus_r_y', 'humerus_r_z', \\\n",
    "          'clavicula_l_x', 'clavicula_l_y', 'clavicula_l_z', 'clavicula_r_x', 'clavicula_r_y', 'clavicula_r_z', \\\n",
    "          'scapula_l_x', 'scapula_l_y', 'scapula_l_z', 'scapula_r_x', 'scapula_r_y', 'scapula_r_z', \\\n",
    "          'clavicula_x_dif','clavicula_y_dif','clavicula_z_dif', \\\n",
    "          'scapula_x_dif','scapula_y_dif','scapula_z_dif', \\\n",
    "          'humerus_x_dif', 'humerus_y_dif', 'humerus_z_dif'\n",
    "         ]\n",
    "\n",
    "df_cleaned['bias'] = 1\n",
    "\n",
    "# split oorsprong kolom in onderdelen\n",
    "x,y = df_cleaned['Oorsprong'].str.split(\".\").str #Oordprong word vertaald naar een string en wordt gesplits op de punt\n",
    "df_cleaned['cat'],df_cleaned['pat'],df_cleaned['meting'],df_cleaned['oef'] = x.str.split(\"_\").str #4 categorieen gemaakt obv file name\n",
    "df_cleaned['cat'] = [ int(x[3:]) for x in df_cleaned['cat']] #voor elk 3+ element in de kolom wordt vertaald naar een int\n",
    "df_cleaned['meting'] = [ int(x[6:]) for x in df_cleaned['meting']] \n",
    "df_cleaned['oef'] = [ int(x[3:]) for x in df_cleaned['oef']] \n",
    "df_cleaned['pat'] = [ int(x[3:]) for x in df_cleaned['pat']] \n",
    "#na deze regels te hebben uitgevoerd zijn er nieuwe categorieen met ints.\n",
    "\n",
    "df_cleaned['pat'] = df_cleaned['cat']*1000+df_cleaned['pat'] #geef elke patient een uniek nummer\n",
    "\n",
    "#maak boolean kolom per categorie\n",
    "df_cleaned['c4'] = ['Cat4' in vincent for vincent in df_cleaned['Oorsprong']]\n",
    "df_cleaned['c3'] = ['Cat3' in vincent for vincent in df_cleaned['Oorsprong']]\n",
    "df_cleaned['c2'] = ['Cat2' in vincent for vincent in df_cleaned['Oorsprong']]\n",
    "df_cleaned['c1'] = ['Cat1' in vincent for vincent in df_cleaned['Oorsprong']]\n",
    "\n",
    "df_cleaned = df_cleaned[~df_cleaned.c3]\n",
    "df_cleaned = df_cleaned[~df_cleaned.c2]\n",
    "\n",
    "Xcolumns = ['bias']\n",
    "Xcolumns.extend(param)\n",
    "\n",
    "X = df_cleaned[Xcolumns]\n",
    "y = df_cleaned['c4']\n"
   ]
  },
  {
   "cell_type": "code",
   "execution_count": 245,
   "metadata": {
    "scrolled": true
   },
   "outputs": [
    {
     "name": "stdout",
     "output_type": "stream",
     "text": [
      "[-0.14998411  0.01676401  0.01829216  0.0129777  -0.00395709  0.00047754\n",
      " -0.01516488 -0.02860133  0.05543822  0.05479918  0.02111168 -0.05737339\n",
      " -0.04270414 -0.04643073 -0.10811822 -0.01994809  0.02694045  0.0650787\n",
      " -0.03738163 -0.0185023  -0.01418398 -0.03229541 -0.01803533  0.04770123\n",
      " -0.02671934  0.00684418 -0.01533524 -0.00356773]\n",
      "              pos   neg\n",
      "0  pred pos  1924    32\n",
      "1  pred neg    58  6698\n",
      "\n",
      "recall:  0.970736629667003\n",
      "precision:  0.983640081799591\n",
      "accuracy:  0.9896694214876033\n",
      "\n",
      "\n",
      "\n"
     ]
    }
   ],
   "source": [
    "\n",
    "X_train, X_test, y_train, y_test = train_test_split(X, y, test_size = 0.2, random_state=42)\n",
    "\n",
    "lr = LogisticRegression()\n",
    "lr.fit(X_train, y_train)\n",
    "\n",
    "y_true = y_test\n",
    "y_pred = lr.predict(X_test)\n",
    "\n",
    "TN, FP, FN, TP = confusion_matrix(y_true, y_pred).ravel()\n",
    "\n",
    "print(reg_all.coef_[0])\n",
    "\n",
    "tab = [[\"pred pos\", TP, FP], [\"pred neg\", FN, TN]]\n",
    "print(pd.DataFrame(tab, columns=[\"\", \"pos\", \"neg\"]))\n",
    "print()\n",
    "print(\"recall: \", recall_score(y_true, y_pred))\n",
    "print(\"precision: \", precision_score(y_true, y_pred))\n",
    "print(\"accuracy: \", accuracy_score(y_true, y_pred.round().astype(bool)))\n",
    "print('\\n\\n')\n",
    "\n",
    "\n"
   ]
  },
  {
   "cell_type": "code",
   "execution_count": 246,
   "metadata": {},
   "outputs": [
    {
     "name": "stdout",
     "output_type": "stream",
     "text": [
      "[False False False ... False False False]\n"
     ]
    }
   ],
   "source": [
    "print(y_pred)"
   ]
  },
  {
   "cell_type": "code",
   "execution_count": 247,
   "metadata": {},
   "outputs": [
    {
     "data": {
      "text/plain": [
       "array([False, False, False, ..., False, False, False])"
      ]
     },
     "execution_count": 247,
     "metadata": {},
     "output_type": "execute_result"
    }
   ],
   "source": [
    "y_pred.round().astype(bool)"
   ]
  }
 ],
 "metadata": {
  "kernelspec": {
   "display_name": "Python 3",
   "language": "python",
   "name": "python3"
  },
  "language_info": {
   "codemirror_mode": {
    "name": "ipython",
    "version": 3
   },
   "file_extension": ".py",
   "mimetype": "text/x-python",
   "name": "python",
   "nbconvert_exporter": "python",
   "pygments_lexer": "ipython3",
   "version": "3.6.6"
  }
 },
 "nbformat": 4,
 "nbformat_minor": 2
}
