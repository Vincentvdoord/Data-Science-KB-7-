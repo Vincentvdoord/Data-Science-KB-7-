{
 "cells": [
  {
   "cell_type": "code",
   "execution_count": 1,
   "metadata": {},
   "outputs": [],
   "source": [
    "import pandas as pd\n",
    "import numpy as np\n",
    "from os import listdir\n",
    "\n",
    "from sklearn.linear_model import LogisticRegression\n",
    "from sklearn.model_selection import train_test_split\n",
    "from sklearn import metrics"
   ]
  },
  {
   "cell_type": "code",
   "execution_count": 2,
   "metadata": {},
   "outputs": [],
   "source": [
    "def HeaderMaker(PatientFile):\n",
    "    df_cleaned = pd.read_csv('/data/ortho/' + PatientFile, header=None)\n",
    "\n",
    "    df_cleaned = df_cleaned.rename(columns={0: \"thorax_r_x\", 1: \"thorax_r_y\", 2: \"thorax_r_z\"})\n",
    "    df_cleaned = df_cleaned.rename(columns={3: \"clavicula_r_x\", 4: \"clavicula_r_y\", 5: \"clavicula_r_z\"})\n",
    "    df_cleaned = df_cleaned.rename(columns={6: \"scapula_r_x\", 7: \"scapula_r_y\", 8: \"scapula_r_z\"})\n",
    "    df_cleaned = df_cleaned.rename(columns={9: \"humerus_r_x\", 10: \"humerus_r_y\", 11: \"humerus_r_z\"})\n",
    "    df_cleaned = df_cleaned.rename(columns={12: \"ellebooghoek_r\"})\n",
    "    df_cleaned = df_cleaned.rename(columns={15: \"thorax_l_x\", 16: \"thorax_l_y\", 17: \"thorax_l_z\"})\n",
    "    df_cleaned = df_cleaned.rename(columns={18: \"clavicula_l_x\", 19: \"clavicula_l_y\", 20: \"clavicula_l_z\"})\n",
    "    df_cleaned = df_cleaned.rename(columns={21: \"scapula_l_x\", 22: \"scapula_l_y\", 23: \"scapula_l_z\"})\n",
    "    df_cleaned = df_cleaned.rename(columns={24: \"humerus_l_x\", 25: \"humerus_l_y\", 26: \"humerus_l_z\"})\n",
    "    df_cleaned = df_cleaned.rename(columns={27: \"ellebooghoek_l\"})\n",
    "    \n",
    "    return df_cleaned"
   ]
  },
  {
   "cell_type": "code",
   "execution_count": 3,
   "metadata": {
    "scrolled": true
   },
   "outputs": [
    {
     "name": "stdout",
     "output_type": "stream",
     "text": [
      "Skipping: StudentNummers\n",
      "Skipping: testset\n",
      "Skipping: AllPatients.csv\n",
      "Skipping: TestDataAllPatients.csv\n"
     ]
    }
   ],
   "source": [
    "\n",
    "Patients = {}\n",
    "testdataurl = '/data/ortho/'\n",
    "for PatientFile in listdir(testdataurl):\n",
    "    if ('meting' not in PatientFile):\n",
    "        print('Skipping: %s' % PatientFile)\n",
    "        # Skip this iteration\n",
    "        continue\n",
    "    Splitted = PatientFile.split('_')\n",
    "    Patient = Splitted[0] + '_' + Splitted[1]\n",
    "\n",
    "    Data = HeaderMaker(PatientFile)\n",
    "    MaxDict = Data.max().to_dict() # .abs() for absolute numbers\n",
    "    \n",
    "    if(Patient not in Patients.keys()):\n",
    "        Patients[Patient] = MaxDict\n",
    "        Patients[Patient]['GroundTruth'] = Splitted[0].split('Cat')[1]\n",
    "        Patients[Patient]['Bias'] = 0\n",
    "        continue\n",
    "    \n",
    "    for key in MaxDict.keys():\n",
    "        Patients[Patient][key]= max(Patients[Patient][key],MaxDict[key])\n",
    "        \n",
    "\n",
    "    \n",
    "    \n",
    "            \n",
    "            \n",
    "            \n",
    "            "
   ]
  },
  {
   "cell_type": "code",
   "execution_count": 4,
   "metadata": {
    "scrolled": true
   },
   "outputs": [
    {
     "name": "stdout",
     "output_type": "stream",
     "text": [
      "['thorax_r_x' 'thorax_r_y' 'thorax_r_z' 'clavicula_r_x' 'clavicula_r_y'\n",
      " 'clavicula_r_z' 'scapula_r_x' 'scapula_r_y' 'scapula_r_z' 'humerus_r_x'\n",
      " 'humerus_r_y' 'humerus_r_z' 'ellebooghoek_r' 13 14 'thorax_l_x'\n",
      " 'thorax_l_y' 'thorax_l_z' 'clavicula_l_x' 'clavicula_l_y' 'clavicula_l_z'\n",
      " 'scapula_l_x' 'scapula_l_y' 'scapula_l_z' 'humerus_l_x' 'humerus_l_y'\n",
      " 'humerus_l_z' 'ellebooghoek_l' 28 29 'GroundTruth' 'Bias']\n"
     ]
    }
   ],
   "source": [
    "df = pd.DataFrame.from_dict(Patients, orient='index')\n",
    "print(df.columns.values)"
   ]
  },
  {
   "cell_type": "code",
   "execution_count": 5,
   "metadata": {},
   "outputs": [],
   "source": [
    "Xcolumns = ['Bias']\n",
    "Xcolumns.extend(['thorax_r_x', 'thorax_r_y', 'thorax_r_z', 'clavicula_r_x', 'clavicula_r_y',\n",
    " 'clavicula_r_z', 'scapula_r_x', 'scapula_r_y', 'scapula_r_z', 'humerus_r_x',\n",
    " 'humerus_r_y', 'humerus_r_z', 'ellebooghoek_r', 'thorax_l_x',\n",
    " 'thorax_l_y', 'thorax_l_z', 'clavicula_l_x', 'clavicula_l_y', 'clavicula_l_z',\n",
    " 'scapula_l_x', 'scapula_l_y', 'scapula_l_z', 'humerus_l_x', 'humerus_l_y',\n",
    " 'humerus_l_z', 'ellebooghoek_l'])\n",
    "\n",
    "X = df[Xcolumns]\n",
    "y = df[['GroundTruth']]\n"
   ]
  },
  {
   "cell_type": "code",
   "execution_count": 6,
   "metadata": {},
   "outputs": [],
   "source": [
    "X_train, X_test, y_train, y_test = train_test_split(X, y, test_size = 0.2, random_state=42)"
   ]
  },
  {
   "cell_type": "code",
   "execution_count": 7,
   "metadata": {},
   "outputs": [
    {
     "name": "stderr",
     "output_type": "stream",
     "text": [
      "/opt/jupyterhub/anaconda/lib/python3.6/site-packages/sklearn/linear_model/logistic.py:432: FutureWarning: Default solver will be changed to 'lbfgs' in 0.22. Specify a solver to silence this warning.\n",
      "  FutureWarning)\n",
      "/opt/jupyterhub/anaconda/lib/python3.6/site-packages/sklearn/utils/validation.py:752: DataConversionWarning: A column-vector y was passed when a 1d array was expected. Please change the shape of y to (n_samples, ), for example using ravel().\n",
      "  y = column_or_1d(y, warn=True)\n",
      "/opt/jupyterhub/anaconda/lib/python3.6/site-packages/sklearn/linear_model/logistic.py:459: FutureWarning: Default multi_class will be changed to 'auto' in 0.22. Specify the multi_class option to silence this warning.\n",
      "  \"this warning.\", FutureWarning)\n"
     ]
    },
    {
     "data": {
      "text/plain": [
       "LogisticRegression(C=1.0, class_weight=None, dual=False, fit_intercept=True,\n",
       "          intercept_scaling=1, max_iter=100, multi_class='warn',\n",
       "          n_jobs=None, penalty='l2', random_state=None, solver='warn',\n",
       "          tol=0.0001, verbose=0, warm_start=False)"
      ]
     },
     "execution_count": 7,
     "metadata": {},
     "output_type": "execute_result"
    }
   ],
   "source": [
    "lr = LogisticRegression()\n",
    "lr.fit(X_train, y_train)"
   ]
  },
  {
   "cell_type": "code",
   "execution_count": 8,
   "metadata": {},
   "outputs": [
    {
     "name": "stdout",
     "output_type": "stream",
     "text": [
      "[ 0.         -0.21529365 -0.40986032 -0.21249066  0.15423425  0.28928863\n",
      "  0.07695528  0.33868736 -0.13525988 -0.07461502 -0.1699128   0.48100461\n",
      "  0.04322715 -0.00131356 -0.21529365 -0.07919595 -0.54222049 -0.18374553\n",
      " -0.28971006  0.01243582 -0.41306239 -0.51043754 -0.25889919 -0.42158465\n",
      " -0.01644535  0.05917898 -0.00062386]\n",
      "0.7142857142857143\n"
     ]
    }
   ],
   "source": [
    "y_pred = lr.predict(X_test)\n",
    "print(lr.coef_[0])\n",
    "print(metrics.accuracy_score(y_test, y_pred))"
   ]
  },
  {
   "cell_type": "code",
   "execution_count": 9,
   "metadata": {},
   "outputs": [
    {
     "data": {
      "text/plain": [
       "32"
      ]
     },
     "execution_count": 9,
     "metadata": {},
     "output_type": "execute_result"
    }
   ],
   "source": [
    "len(Patients['Cat3_pat38'])"
   ]
  }
 ],
 "metadata": {
  "kernelspec": {
   "display_name": "Python 3",
   "language": "python",
   "name": "python3"
  },
  "language_info": {
   "codemirror_mode": {
    "name": "ipython",
    "version": 3
   },
   "file_extension": ".py",
   "mimetype": "text/x-python",
   "name": "python",
   "nbconvert_exporter": "python",
   "pygments_lexer": "ipython3",
   "version": "3.6.6"
  }
 },
 "nbformat": 4,
 "nbformat_minor": 2
}
